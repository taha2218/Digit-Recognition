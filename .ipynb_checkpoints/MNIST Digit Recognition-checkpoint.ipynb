{
 "cells": [
  {
   "cell_type": "code",
   "execution_count": 2,
   "metadata": {},
   "outputs": [
    {
     "name": "stderr",
     "output_type": "stream",
     "text": [
      "Using TensorFlow backend.\n"
     ]
    }
   ],
   "source": [
    "import numpy as np\n",
    "import matplotlib.pyplot as plt\n",
    "import tensorflow as tf\n",
    "from keras.datasets import mnist\n",
    "from keras.models import Sequential\n",
    "from keras.layers import Dense\n",
    "from keras.optimizers import Adam\n",
    "from keras.utils.np_utils import to_categorical\n",
    "from keras.layers import Dropout, Flatten\n",
    "from keras.layers.convolutional import Conv2D, MaxPooling2D\n",
    "import random"
   ]
  },
  {
   "cell_type": "code",
   "execution_count": 3,
   "metadata": {},
   "outputs": [],
   "source": [
    "np.random.seed(0)"
   ]
  },
  {
   "cell_type": "code",
   "execution_count": 4,
   "metadata": {},
   "outputs": [],
   "source": [
    "(X_train,y_train),(X_test,y_test) = mnist.load_data()"
   ]
  },
  {
   "cell_type": "code",
   "execution_count": null,
   "metadata": {},
   "outputs": [],
   "source": [
    "plt.imshow(X_train[100])"
   ]
  },
  {
   "cell_type": "code",
   "execution_count": null,
   "metadata": {},
   "outputs": [],
   "source": [
    "sample = []\n",
    "cols = 5\n",
    "classes = 10\n",
    "fig,axis = plt.subplots(nrows=classes,ncols=cols,figsize=(5,10))\n",
    "fig.tight_layout()\n",
    "for i in range(cols):\n",
    "    for j in range(classes):\n",
    "        x_selected = X_train[y_train == j]\n",
    "        axis[j][i].imshow(x_selected[random.randint(0,10),:,:] )"
   ]
  },
  {
   "cell_type": "code",
   "execution_count": 5,
   "metadata": {},
   "outputs": [],
   "source": [
    "y_train = to_categorical(y_train ,10)\n",
    "y_test = to_categorical(y_test ,10)"
   ]
  },
  {
   "cell_type": "code",
   "execution_count": 6,
   "metadata": {},
   "outputs": [],
   "source": [
    "X_train = X_train/255\n",
    "X_test = X_test/255"
   ]
  },
  {
   "cell_type": "code",
   "execution_count": 7,
   "metadata": {},
   "outputs": [
    {
     "name": "stdout",
     "output_type": "stream",
     "text": [
      "(28, 28)\n"
     ]
    }
   ],
   "source": [
    "print(X_train[0].shape)"
   ]
  },
  {
   "cell_type": "code",
   "execution_count": 13,
   "metadata": {},
   "outputs": [],
   "source": [
    "X_train, X_test = np.expand_dims(X_train, axis=-1), np.expand_dims(X_test, axis=-1)"
   ]
  },
  {
   "cell_type": "code",
   "execution_count": 14,
   "metadata": {},
   "outputs": [
    {
     "name": "stdout",
     "output_type": "stream",
     "text": [
      "(60000, 28, 28, 1)\n"
     ]
    }
   ],
   "source": [
    "print(X_train.shape)"
   ]
  },
  {
   "cell_type": "code",
   "execution_count": 15,
   "metadata": {},
   "outputs": [],
   "source": [
    "def create_model():\n",
    "    model = Sequential()\n",
    "    model.add(Conv2D(32, (3, 3), activation='relu', kernel_initializer='he_uniform', input_shape=(28, 28, 1)))\n",
    "    model.add(MaxPooling2D((2, 2)))\n",
    "    model.add(Flatten())\n",
    "    model.add(Dense(100, activation='relu', kernel_initializer='he_uniform'))\n",
    "    model.add(Dense(10, activation='softmax'))\n",
    "    model.compile(Adam(lr=0.01),loss='categorical_crossentropy',metrics=['accuracy'])\n",
    "    return model"
   ]
  },
  {
   "cell_type": "code",
   "execution_count": 16,
   "metadata": {},
   "outputs": [],
   "source": [
    "model = create_model()"
   ]
  },
  {
   "cell_type": "code",
   "execution_count": 17,
   "metadata": {},
   "outputs": [
    {
     "name": "stdout",
     "output_type": "stream",
     "text": [
      "Train on 54000 samples, validate on 6000 samples\n",
      "Epoch 1/10\n",
      "54000/54000 [==============================] - 15s 274us/step - loss: 0.3441 - accuracy: 0.9306 - val_loss: 0.0694 - val_accuracy: 0.9788\n",
      "Epoch 2/10\n",
      "54000/54000 [==============================] - 15s 279us/step - loss: 0.0488 - accuracy: 0.9852 - val_loss: 0.0561 - val_accuracy: 0.9835\n",
      "Epoch 3/10\n",
      "54000/54000 [==============================] - 16s 288us/step - loss: 0.0289 - accuracy: 0.9911 - val_loss: 0.0551 - val_accuracy: 0.9850\n",
      "Epoch 4/10\n",
      "54000/54000 [==============================] - 15s 283us/step - loss: 0.0174 - accuracy: 0.9948 - val_loss: 0.0595 - val_accuracy: 0.9857\n",
      "Epoch 5/10\n",
      "54000/54000 [==============================] - 14s 259us/step - loss: 0.0110 - accuracy: 0.9969 - val_loss: 0.0642 - val_accuracy: 0.9857\n",
      "Epoch 6/10\n",
      "54000/54000 [==============================] - 16s 288us/step - loss: 0.0068 - accuracy: 0.9984 - val_loss: 0.0652 - val_accuracy: 0.9852\n",
      "Epoch 7/10\n",
      "54000/54000 [==============================] - 16s 297us/step - loss: 0.0039 - accuracy: 0.9993 - val_loss: 0.0659 - val_accuracy: 0.9848\n",
      "Epoch 8/10\n",
      "54000/54000 [==============================] - 16s 298us/step - loss: 0.0023 - accuracy: 0.9997 - val_loss: 0.0629 - val_accuracy: 0.9858\n",
      "Epoch 9/10\n",
      "54000/54000 [==============================] - 16s 301us/step - loss: 0.0014 - accuracy: 0.9999 - val_loss: 0.0677 - val_accuracy: 0.9862\n",
      "Epoch 10/10\n",
      "54000/54000 [==============================] - 16s 294us/step - loss: 8.1206e-04 - accuracy: 0.9999 - val_loss: 0.0686 - val_accuracy: 0.9867\n"
     ]
    },
    {
     "data": {
      "text/plain": [
       "<keras.callbacks.callbacks.History at 0x1a6782c1bc8>"
      ]
     },
     "execution_count": 17,
     "metadata": {},
     "output_type": "execute_result"
    }
   ],
   "source": [
    "model.fit(X_train,y_train,validation_split=0.1,epochs = 10,batch_size = 200, verbose = 1,shuffle = 1)"
   ]
  },
  {
   "cell_type": "code",
   "execution_count": 18,
   "metadata": {},
   "outputs": [
    {
     "name": "stdout",
     "output_type": "stream",
     "text": [
      "10000/10000 [==============================] - 1s 129us/step\n",
      "Test Score : 0.05678361423380411\n",
      "Test Accuracy : 0.9854000210762024\n"
     ]
    }
   ],
   "source": [
    "score = model.evaluate(X_test,y_test)\n",
    "print(\"Test Score :\", score[0])\n",
    "print(\"Test Accuracy :\", score[1])"
   ]
  },
  {
   "cell_type": "code",
   "execution_count": 35,
   "metadata": {},
   "outputs": [
    {
     "name": "stdout",
     "output_type": "stream",
     "text": [
      "<Response [200]>\n"
     ]
    },
    {
     "data": {
      "text/plain": [
       "<matplotlib.image.AxesImage at 0x1a616ad2f08>"
      ]
     },
     "execution_count": 35,
     "metadata": {},
     "output_type": "execute_result"
    },
    {
     "data": {
      "image/png": "[encoded data removed]",
      "text/plain": [
       "<Figure size 432x288 with 1 Axes>"
      ]
     },
     "metadata": {
      "needs_background": "light"
     },
     "output_type": "display_data"
    }
   ],
   "source": [
    "import requests\n",
    "from PIL import Image\n",
    "url = 'https://encrypted-tbn0.gstatic.com/images?q=tbn%3AANd9GcRJfSjWnd4Jcnd6dbDiZTtKknnfP8KknShzJw&usqp=CAU'\n",
    "response = requests.get(url,stream = True)\n",
    "print(response)\n",
    "img = Image.open(response.raw)\n",
    "plt.imshow(img)\n"
   ]
  },
  {
   "cell_type": "code",
   "execution_count": 36,
   "metadata": {},
   "outputs": [
    {
     "name": "stdout",
     "output_type": "stream",
     "text": [
      "(225, 225, 3)\n"
     ]
    }
   ],
   "source": [
    "img_array = np.asarray(img)\n",
    "print(img_array.shape)\n",
    "import cv2\n",
    "resized = cv2.resize(img_array,(28,28))\n",
    "gray_scale = cv2.cvtColor(resized,cv2.COLOR_BGR2GRAY)"
   ]
  },
  {
   "cell_type": "code",
   "execution_count": 37,
   "metadata": {},
   "outputs": [
    {
     "name": "stdout",
     "output_type": "stream",
     "text": [
      "(28, 28)\n"
     ]
    }
   ],
   "source": [
    "image = cv2.bitwise_not(gray_scale)\n",
    "image = image/255\n",
    "print(image.shape)"
   ]
  },
  {
   "cell_type": "code",
   "execution_count": 38,
   "metadata": {},
   "outputs": [],
   "source": [
    "image = np.expand_dims(image, axis=-1)"
   ]
  },
  {
   "cell_type": "code",
   "execution_count": 39,
   "metadata": {},
   "outputs": [
    {
     "name": "stdout",
     "output_type": "stream",
     "text": [
      "(1, 28, 28, 1)\n"
     ]
    }
   ],
   "source": [
    "image = image.reshape(1,28,28,1)\n",
    "print(image.shape)"
   ]
  },
  {
   "cell_type": "code",
   "execution_count": 40,
   "metadata": {},
   "outputs": [
    {
     "name": "stdout",
     "output_type": "stream",
     "text": [
      "[6]\n"
     ]
    }
   ],
   "source": [
    "prediction = model.predict_classes(image)\n",
    "print(str(prediction))"
   ]
  },
  {
   "cell_type": "code",
   "execution_count": null,
   "metadata": {},
   "outputs": [],
   "source": [
    "model.save('mnist_model.h5')"
   ]
  }
 ],
 "metadata": {
  "kernelspec": {
   "display_name": "Python 3.7 (tensorflow)",
   "language": "python",
   "name": "tensorflow"
  },
  "language_info": {
   "codemirror_mode": {
    "name": "ipython",
    "version": 3
   },
   "file_extension": ".py",
   "mimetype": "text/x-python",
   "name": "python",
   "nbconvert_exporter": "python",
   "pygments_lexer": "ipython3",
   "version": "3.7.7"
  }
 },
 "nbformat": 4,
 "nbformat_minor": 4
}
